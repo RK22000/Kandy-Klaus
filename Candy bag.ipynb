{
 "cells": [
  {
   "cell_type": "markdown",
   "id": "a4b011db",
   "metadata": {},
   "source": [
    "# Messing around with Bayesian learning\n",
    "In this note book I'm going to be experimenting with a Bayesian model. The premise of this notebook is that there is a candy bag that contains a mixture of cherry and lime candies. I think there are infinitly many candies. The bayesian model will try to predict what is the ratio of the cherry and lime candies in the mixture. For this notebook the model will be called Kandy Klause or Kalus, and the mystery bag will be called yummy_bag."
   ]
  },
  {
   "cell_type": "code",
   "execution_count": 1,
   "id": "0e1b3ab1",
   "metadata": {},
   "outputs": [],
   "source": [
    "class CandyFlavor:\n",
    "    cherry = \"Cherry\"\n",
    "    lime   = \"Lime\"\n",
    "    \n",
    "class Candy:\n",
    "    \"\"\"A class to model a candy\"\"\"\n",
    "    def __init__(self, flavor=CandyFlavor.cherry):\n",
    "        self.__flavor=flavor\n",
    "    @property\n",
    "    def flavor(self):\n",
    "        return self.__flavor\n",
    "    def __str__(self):\n",
    "        return f'{self.flavor} flavored candy'\n",
    "\n",
    "import random\n",
    "class CandyBag:\n",
    "    \"\"\"A class to model the candy bag\"\"\"\n",
    "    def __init__(self, ratio=0.5, num_candies=-1):\n",
    "        \"\"\"ratio: The ratio of cherry candies to lime candies\"\"\"\n",
    "        self.ratio=ratio\n",
    "        self.num_candies=num_candies\n",
    "    def __iter__(self, num_candies=10):\n",
    "        \"\"\"num_candies: The max number of candies this itterator will spit out\n",
    "        returns a Candy bag with num_candy candies\"\"\"\n",
    "        return CandyBag(self.ratio, num_candies)\n",
    "    def __next__(self):\n",
    "        \"\"\"Pick the next candy from the bag\"\"\"\n",
    "        if self.num_candies==0:\n",
    "            raise StopIteration\n",
    "        else:\n",
    "            self.num_candies-=1\n",
    "            nxt_flavor = random.choice([CandyFlavor.cherry, CandyFlavor.lime])\n",
    "            return Candy(nxt_flavor)\n",
    "    def __repr__(self):\n",
    "        return f'Candy bag with {100*self.ratio}% cherry candies and {100-100*self.ratio}% lime candies'\n",
    "            \n",
    "        "
   ]
  },
  {
   "cell_type": "code",
   "execution_count": 2,
   "id": "fcf1a29f",
   "metadata": {},
   "outputs": [],
   "source": [
    "bag = CandyBag()"
   ]
  },
  {
   "cell_type": "code",
   "execution_count": 3,
   "id": "4725fc00",
   "metadata": {},
   "outputs": [
    {
     "name": "stdout",
     "output_type": "stream",
     "text": [
      "Cherry flavored candy\n"
     ]
    }
   ],
   "source": [
    "print(next(bag)) # Spam run this cell to get the candies from this bag"
   ]
  },
  {
   "cell_type": "code",
   "execution_count": 4,
   "id": "6db68ca7",
   "metadata": {},
   "outputs": [
    {
     "name": "stdout",
     "output_type": "stream",
     "text": [
      "1. Cherry flavored candy\n",
      "2. Cherry flavored candy\n",
      "3. Cherry flavored candy\n",
      "4. Lime flavored candy\n",
      "5. Lime flavored candy\n",
      "6. Cherry flavored candy\n",
      "7. Lime flavored candy\n",
      "8. Cherry flavored candy\n",
      "9. Lime flavored candy\n",
      "10. Lime flavored candy\n"
     ]
    }
   ],
   "source": [
    "for i,candy in enumerate(bag):\n",
    "    print(f'{i+1}. {candy}')"
   ]
  },
  {
   "cell_type": "markdown",
   "id": "cab36f78",
   "metadata": {},
   "source": [
    "## Simple Start\n",
    "To start Kandy Klaus will be working in a simple situation. He knows that yummy_bag will be one of 5 types.\n",
    "\n",
    "These are his 5 hypotheses\n",
    "1. 10% chance the yummy_bag only has cherry candies\n",
    "1. 20% chance the yummy_bag has 75% cherry candies and 25% lime candies\n",
    "2. 40% chance the yummy_bag has 50% cherry candies and 50% lime candies\n",
    "3. 20% chance the yummy_bag has 25% cherry candies and 75% lime candies\n",
    "4. 10% chance the yummy_bag only has lime candies\n",
    "\n",
    "To identify yummy_bag, Klaus can keep taking candies from it, check those candies and make a prediction about yummy_bag based on the candies he has pulled out so far.\n"
   ]
  },
  {
   "cell_type": "code",
   "execution_count": 5,
   "id": "cac41ec8",
   "metadata": {},
   "outputs": [],
   "source": [
    "hypotheses = [\n",
    "    (0.10, CandyBag(1.00)),\n",
    "    (0.20, CandyBag(0.75)),\n",
    "    (0.40, CandyBag(0.50)),\n",
    "    (0.20, CandyBag(0.25)),\n",
    "    (0.10, CandyBag(0.00))\n",
    "] # These are tupples of the probabality of a hypothesis and the hypothetical bag"
   ]
  },
  {
   "cell_type": "markdown",
   "id": "4ea533c9",
   "metadata": {},
   "source": [
    "### Senario\n",
    "Klaus has taken 10 candies from yummy_bag, and all 10 of them are lime flavored. This is the observed data. For each of his hypothesis, \n",
    "    \n",
    "    Klaus needs to find the probabality that the hypothesis is true given the observed data has happened.\n",
    "    = P(h|d)\n",
    "\n",
    "This is not straight forward or intuitive. However the reverse is straightforward.\n",
    "\n",
    "    For Klause, it is easy to find the probabality that observed data happened given the hypothesis is true.\n",
    "    = P(d|h), also called likelyhood\n",
    "\n",
    "Luckily Bayes theorm allows us to use this ( P(d|h) ) to find what we want ( P(h|d) )\n",
    "\n",
    "    P(h|d) = P(d|h)*P(h)/P(d)\n",
    "    P(d) = probabality of observed data happening. (consideres prob of each hypo and then the prob of data)\n",
    "    P(H|d) = @P(d|H)*P(H)\n",
    "\n"
   ]
  },
  {
   "cell_type": "code",
   "execution_count": 6,
   "id": "6d5e25c2",
   "metadata": {},
   "outputs": [
    {
     "data": {
      "text/plain": [
       "[(Candy bag with 100.0% cherry candies and 0.0% lime candies, 0.0),\n",
       " (Candy bag with 75.0% cherry candies and 25.0% lime candies,\n",
       "  1.7082745402179075e-06),\n",
       " (Candy bag with 50.0% cherry candies and 50.0% lime candies,\n",
       "  0.0034985462583662745),\n",
       " (Candy bag with 25.0% cherry candies and 75.0% lime candies,\n",
       "  0.10087190332532722),\n",
       " (Candy bag with 0.0% cherry candies and 100.0% lime candies,\n",
       "  0.8956278421417663)]"
      ]
     },
     "execution_count": 6,
     "metadata": {},
     "output_type": "execute_result"
    }
   ],
   "source": [
    "p_event = sum( [ h[0]*(1-h[1].ratio)**10 for h in hypotheses ] )  # p_event is P(d)\n",
    "predictions = [ (h[1], h[0]*(1-h[1].ratio)**10 / p_event,) for h in hypotheses ] \n",
    "predictions"
   ]
  },
  {
   "cell_type": "code",
   "execution_count": 7,
   "id": "468bcce3",
   "metadata": {},
   "outputs": [
    {
     "name": "stdout",
     "output_type": "stream",
     "text": [
      "0.0\n",
      "1.7082745402179075e-06\n",
      "0.0034985462583662745\n",
      "0.10087190332532722\n",
      "0.8956278421417663\n"
     ]
    }
   ],
   "source": [
    "def get_predictions(n):\n",
    "    \"\"\"Get probabality for each hypothesis being true after n limes have been removed from yummy_bag\"\"\"\n",
    "    p_event = sum( [ h[0]*(1-h[1].ratio)**n for h in hypotheses ] )\n",
    "    predictions = [ h[0]*(1-h[1].ratio)**n / p_event for h in hypotheses ] \n",
    "    return predictions\n",
    "\n",
    "print('\\n'.join([str(i) for i in get_predictions(10)]))"
   ]
  },
  {
   "cell_type": "code",
   "execution_count": 8,
   "id": "cc33edf7",
   "metadata": {},
   "outputs": [
    {
     "name": "stdout",
     "output_type": "stream",
     "text": [
      "Plot of probabality of each hypothesis after a lime is pulled from the bag\n"
     ]
    },
    {
     "data": {
      "image/png": "[encoded data removed]",
      "text/plain": [
       "<Figure size 432x288 with 1 Axes>"
      ]
     },
     "metadata": {
      "needs_background": "light"
     },
     "output_type": "display_data"
    }
   ],
   "source": [
    "datas = [i for i in range(11)]\n",
    "ranged_predictions = [get_predictions(i) for i in datas]\n",
    "y_values = list(zip(*ranged_predictions))\n",
    "import matplotlib.pyplot as plt\n",
    "for i, y in enumerate(y_values):\n",
    "    plt.plot(datas, y, label=f\"hypothesis {i+1}\")\n",
    "\n",
    "sums = [sum(preds) for preds in ranged_predictions]\n",
    "plt.plot(datas, sums, label=\"Sum of all\")\n",
    "plt.legend()\n",
    "print(\"Plot of probabality of each hypothesis after a lime is pulled from the bag\")"
   ]
  }
 ],
 "metadata": {
  "kernelspec": {
   "display_name": "Python 3 (ipykernel)",
   "language": "python",
   "name": "python3"
  },
  "language_info": {
   "codemirror_mode": {
    "name": "ipython",
    "version": 3
   },
   "file_extension": ".py",
   "mimetype": "text/x-python",
   "name": "python",
   "nbconvert_exporter": "python",
   "pygments_lexer": "ipython3",
   "version": "3.9.7"
  }
 },
 "nbformat": 4,
 "nbformat_minor": 5
}
